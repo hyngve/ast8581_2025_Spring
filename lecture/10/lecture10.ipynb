{
 "cells": [
  {
   "cell_type": "code",
   "execution_count": null,
   "metadata": {
    "slideshow": {
     "slide_type": "skip"
    }
   },
   "outputs": [],
   "source": [
    "from notebook.services.config import ConfigManager\n",
    "cm = ConfigManager()\n",
    "cm.update('livereveal', {\n",
    "        'width': 1920,\n",
    "        'height': 1080,\n",
    "        'scroll': True,\n",
    "})\n",
    "%config InlineBackend.figure_format = 'retina'\n",
    "from IPython.lib.display import YouTubeVideo"
   ]
  },
  {
   "cell_type": "markdown",
   "metadata": {
    "slideshow": {
     "slide_type": "slide"
    }
   },
   "source": [
    "# Week 06 (Monday), AST 8581 / PHYS 8581 / CSCI 8581 / STAT 8581: Big Data in Astrophysics\n",
    "\n",
    "### Michael Coughlin <cough052@umn.edu>\n",
    "\n",
    "\n",
    "with contributions totally ripped off from Gautham Narayan (UIUC), Michael Steinbach (UMN), Nico Adams (UMN), and Jie Ding (UMN)"
   ]
  },
  {
   "cell_type": "markdown",
   "metadata": {
    "slideshow": {
     "slide_type": "slide"
    }
   },
   "source": [
    "# Where are we headed?\n",
    "\n",
    "Foundations of Data and Probability -> Statistical frameworks (Frequentist vs Bayesian) -> Estimating underlying distributions -> Analysis of Time series (periodicity) -> Analysis of Time series (variability) -> Analysis of Time series (stochastic processes) -> <b> Gaussian Processes </b> -> Decision Trees / Regression -> Dimensionality Reduction -> Principle Component Analysis -> Clustering -> Density Estimation / Anomaly Detection -> Supervised Learning -> Deep Learning -> Introduction to Databases - SQL -> Introduction to Databases - NoSQL -> Introduction to Multiprocessing -> Introduction to GPUs -> Unit Testing"
   ]
  },
  {
   "cell_type": "markdown",
   "metadata": {
    "collapsed": true,
    "slideshow": {
     "slide_type": "slide"
    }
   },
   "source": [
    "# Last Class: Stochastic Processes, Correlation Functions, and Gaussian Processes"
   ]
  },
  {
   "cell_type": "markdown",
   "metadata": {
    "collapsed": true,
    "slideshow": {
     "slide_type": "slide"
    }
   },
   "source": [
    "# Today: More Gaussian Processes!"
   ]
  },
  {
   "cell_type": "markdown",
   "metadata": {
    "slideshow": {
     "slide_type": "slide"
    }
   },
   "source": [
    "# Gaussian Process Theory"
   ]
  },
  {
   "cell_type": "markdown",
   "metadata": {
    "slideshow": {
     "slide_type": "subslide"
    }
   },
   "source": [
    "### Gaussian Processes in Data Analysis\n",
    "\n",
    "A draw from $P[y(x^*)]$ would represent a prior prediction for the function value $y(x^*)$\n",
    "\n",
    "Typically we are more interested in the posterior prediction, drawn from $P[y(x^*)\\vert y^{\\rm obs}(x_{\\rm obs})]$\n",
    "\n",
    "$$ \\log L = - \\log | \\Sigma| - |y -u|^T \\Sigma^{-1} |y-u|$$\n",
    "\n",
    "\n",
    "$$ \\Sigma = (n x n)\\text{ matrix}$$ \n",
    "\n",
    "with \n",
    "\n",
    "$$ \\Sigma_{i,j} = \\text{Cov}(y(t_i), y(t_j)) = \\int_{-\\infty}^{\\infty} \\text{PSD} e^{2\\pi if |t_i - t_j|} \\,df $$\n"
   ]
  },
  {
   "cell_type": "markdown",
   "metadata": {
    "slideshow": {
     "slide_type": "subslide"
    }
   },
   "source": [
    "The posterior PDF for $y(x^*)$ is a Gaussian, whose mean and standard deviation can be computed algebraically, and which is constrained by _all the previously observed $y(x)$_.\n",
    "\n",
    "\n",
    "<img src=\"figures/mfm_gp_example.png\" width=400> "
   ]
  },
  {
   "cell_type": "markdown",
   "metadata": {
    "slideshow": {
     "slide_type": "subslide"
    }
   },
   "source": [
    "### GP Regression\n",
    "\n",
    "GP's provide a natural way to achieve high flexibility (and uncertainty) when _interpolating_ data. \n",
    "\n",
    "With the appropriate assumptions (e.g. Gaussian measurement errors), the calculation of the posterior for $y(x)$ is an _algebraic_ operation (no Monte Carlo required).\n",
    "\n",
    "Marginalization over the GP hyperparameters (the width of the kernel, for example) is more computationally expensive (involving the determinants of the matrices), but [fast methods have been developed](http://dan.iel.fm/george/current/user/hyper/)."
   ]
  },
  {
   "cell_type": "markdown",
   "metadata": {
    "slideshow": {
     "slide_type": "subslide"
    }
   },
   "source": [
    "During the first half of the semester, you got famililar with observations drawn from a distribution e.g. $y1$, drawn from a Gaussian distribution with mean $\\mu$ and variance $\\sigma^2$:\n",
    "\n",
    "\\begin{align}\n",
    "p(y_1 | \\mu, \\sigma) = \\frac{1}{\\sqrt{2 \\pi} \\sigma} \\exp \\left[ - \\frac{(y_1-\\mu)^2}{2 \\sigma^2} \\right] \n",
    "\\end{align}\n",
    "\n",
    "i.e.\n",
    "\n",
    "### $$y_1 \\sim \\mathcal{N}(\\mu,\\sigma^2)$$"
   ]
  },
  {
   "cell_type": "markdown",
   "metadata": {
    "slideshow": {
     "slide_type": "subslide"
    }
   },
   "source": [
    "If pair of variables $y_1$ and $y_2$, drawn from a *bivariate Gaussian distribution*. The *joint probability density* for $y_1$ and $y_2$ is:\n",
    "\n",
    "$$\\left[ \\begin{array}{l} y_1 \\\\ y_2 \\end{array} \\right] \\sim \\mathcal{N} \\left(\n",
    "\\left[ \\begin{array}{l} \\mu_1 \\\\ \\mu_2 \\end{array}  \\right] , \n",
    "\\left[ \\begin{array}{ll} \n",
    "\\sigma_1^2 & C \\\\\n",
    "C & \\sigma_2^2 \n",
    "\\end{array}  \\right] \n",
    "\\right),$$\n",
    "\n",
    "where \n",
    "\n",
    "### $$C = {\\rm cov}(y_1,y_2)$$ \n",
    "\n",
    "is the *covariance* between $y_1$ and $y_2$."
   ]
  },
  {
   "cell_type": "markdown",
   "metadata": {
    "slideshow": {
     "slide_type": "subslide"
    }
   },
   "source": [
    "In the first half of the semester, we dealt with independent variables i.e.\n",
    "\n",
    "### $$P(y_1 \\cap y_2) = P(y_1) \\cdot P(y_2) $$\n",
    "\n",
    "and consequently\n",
    "\n",
    "\n",
    "\\begin{align}\n",
    "P(y_2|y_1) = \\frac{P(y_1 \\cap y_2)}{P(y_1)} = P(y_2)\n",
    "\\end{align}\n",
    "\n",
    "If two variables are independent, then $C = 0$ (remember converse isn't true). \n",
    "\n",
    "The observations are *uncorrelated* so measuring $y_1$ doesn't teach us anything about $y_2$.\n",
    "\n",
    "(If in addition $\\mu_1 = \\mu_2$ and $\\sigma_1 = \\sigma_2$ the variables are i.i.d)"
   ]
  },
  {
   "cell_type": "markdown",
   "metadata": {
    "slideshow": {
     "slide_type": "subslide"
    }
   },
   "source": [
    "### With time-series, $C \\ne 0$ \n",
    "\n",
    "If we know the value of $y_1$, the probability density for $y_2$ collapses to the the *conditional distribution* of $y_2$ given $y_1$:\n",
    "\n",
    "$$\n",
    "p(y_2 \\mid y_1) = \\mathcal{N} \\left( \\mu_2 + C (y_1-\\mu_1)/\\sigma_1^2, \\sigma_2^2-C^2\\sigma_1^2 \\right).\n",
    "$$"
   ]
  },
  {
   "cell_type": "markdown",
   "metadata": {
    "slideshow": {
     "slide_type": "subslide"
    }
   },
   "source": [
    "### Now consider $N$ variables drawn from a multivariate Gaussian distribution:\n",
    "\n",
    "### $$\\boldsymbol{y} \\sim \\mathcal{N} (\\boldsymbol{\\mu},\\boldsymbol{\\Sigma})$$\n",
    "\n",
    "where \n",
    "\n",
    "### $$\\boldsymbol{y} = (y_1,y_2,\\ldots,y_N)^T$$\n",
    "\n",
    "### $$\\boldsymbol{\\mu} = (\\mu_1,\\mu_2,\\ldots,\\mu_N)^T$$ \n",
    "\n",
    "\n",
    "is the *mean vector*, and $\\boldsymbol{\\Sigma}$ is an $N \\times N$ positive semi-definite *covariance matrix*, with elements \n",
    "\n",
    "### $$\\Sigma_{ij}={\\rm cov}(y_i,y_j)$$"
   ]
  },
  {
   "cell_type": "markdown",
   "metadata": {
    "slideshow": {
     "slide_type": "subslide"
    }
   },
   "source": [
    "### And then the likelihood generalizes from 1D:\n",
    "\n",
    "\\begin{align}\n",
    "p(y_1 | \\mu, \\sigma) = \\frac{1}{\\sqrt{2 \\pi} \\sigma} \\exp \\left[ - \\frac{(y_1-\\mu)^2}{2 \\sigma^2} \\right] \n",
    "\\end{align}\n",
    "\n",
    "### to ND:\n",
    "\n",
    "\n",
    "\\begin{align}\n",
    "p(\\boldsymbol{y} | \\boldsymbol{\\mu}, \\boldsymbol{\\Sigma}) = \\frac{1}{\\sqrt{2 \\pi^N |\\Sigma|} } \\exp \\left[ -\\frac{1}{2} (\\boldsymbol{y} - \\boldsymbol{\\mu})^T \\Sigma^{-1} (\\boldsymbol{y} - \\boldsymbol{\\mu}) \\right] \n",
    "\\end{align}"
   ]
  },
  {
   "cell_type": "markdown",
   "metadata": {
    "slideshow": {
     "slide_type": "subslide"
    }
   },
   "source": [
    "This works because:\n",
    "\n",
    "<img src=\"figures/gaussians_all_the_way_down.jpg\" width=600>"
   ]
  },
  {
   "cell_type": "markdown",
   "metadata": {
    "slideshow": {
     "slide_type": "subslide"
    }
   },
   "source": [
    "## A Gaussian process is an extension of this concept to infinite $N$.\n",
    "\n",
    "This gives rise to a probability distribution over functions, rather than finite $N$ samples. \n",
    "\n",
    "<img src=\"figures/gp.png\" width=500>\n",
    "\n",
    "Informally - infinitely long vector ~ function"
   ]
  },
  {
   "cell_type": "markdown",
   "metadata": {
    "slideshow": {
     "slide_type": "subslide"
    }
   },
   "source": [
    "Again, for finite number of $y$ drawn from a multivariate normal distribution:\n",
    "\n",
    "### $$\\boldsymbol{y} \\sim \\mathcal{N} (\\boldsymbol{\\mu},\\boldsymbol{\\Sigma})$$\n",
    "\n",
    "This clearly doesn't make sense for infinite $N$, but the essential feature remains the same:\n",
    "### A Gaussian process is completely specified by its *mean function* and *covariance function*.  "
   ]
  },
  {
   "cell_type": "markdown",
   "metadata": {
    "slideshow": {
     "slide_type": "subslide"
    }
   },
   "source": [
    "### Incorporating observational error is similar to what you did in the past as well:\n",
    "\n",
    "### $$ y \\sim f(t) + \\epsilon$$ \n",
    "\n",
    "### with deviations from the truth related to the observational uncertainties\n",
    "\n",
    "### $$ \\epsilon \\sim \\mathcal{N}(0, \\sigma_y^2) $$\n",
    "\n",
    "\n",
    "### except now, $f(t)$ is a function not of some parameters, but rather of functions thenselves:\n",
    "\n",
    "###  $$ f(t) \\sim \\mathcal{GP}(m(t), k(t,t'))$$\n",
    "\n",
    "### where I'm switching from $\\mu$ to $m(t)$ and $\\Sigma$ to $k(t, t')$ just to make explicit that these are not vectors.\n",
    "\n",
    "I'm using $k$ because this function that describes the covariance between time $t$ and $t'$ is called a **kernel** function. "
   ]
  },
  {
   "cell_type": "markdown",
   "metadata": {
    "slideshow": {
     "slide_type": "subslide"
    }
   },
   "source": [
    "<img src=\"figures/random_process.jpg\" width=600>"
   ]
  },
  {
   "cell_type": "markdown",
   "metadata": {
    "slideshow": {
     "slide_type": "subslide"
    }
   },
   "source": [
    "<img src=\"figures/weight_space.jpg\" width=600>"
   ]
  },
  {
   "cell_type": "markdown",
   "metadata": {
    "slideshow": {
     "slide_type": "subslide"
    }
   },
   "source": [
    "<img src=\"figures/two_views.jpg\" width=600>"
   ]
  },
  {
   "cell_type": "markdown",
   "metadata": {
    "slideshow": {
     "slide_type": "subslide"
    }
   },
   "source": [
    "## So how do you choose the kernel $k$?\n",
    "\n",
    "Common choices: http://www.cs.toronto.edu/~duvenaud/cookbook/index.html\n",
    "\n",
    "Lets fiddle:\n",
    "\n",
    "## In-class exercise:\n",
    "\n",
    "[Click this](https://distill.pub/2019/visual-exploration-gaussian-processes/)"
   ]
  },
  {
   "cell_type": "markdown",
   "metadata": {
    "slideshow": {
     "slide_type": "subslide"
    }
   },
   "source": [
    "## The likelihood\n",
    "\n",
    "The *likelihood* of the data under the GP model is simply:\n",
    "\n",
    "### $$\n",
    "\\mathrm{p}(\\boldsymbol{y} \\,|\\, \\boldsymbol{t}) = \\mathcal{N}(\\boldsymbol{y} \\, | \\, \\boldsymbol{0},K + \\sigma^2 \\mathbb{I}).\n",
    "$$\n",
    "\n",
    "This is a measure of how well the model explains, or predicts, the training set.\n",
    "\n",
    "i.e. **The observed $\\boldsymbol{y}$ are noisy realisations of a latent (unobserved) Gaussian process $\\boldsymbol{f}$.**"
   ]
  },
  {
   "cell_type": "markdown",
   "metadata": {
    "slideshow": {
     "slide_type": "subslide"
    }
   },
   "source": [
    "We are marginalizing over the function values $\\boldsymbol{f}$:\n",
    "### $$\\mathrm{p}(\\boldsymbol{y} \\,|\\, \\boldsymbol{t}) = \\int \\mathrm{p}(\\boldsymbol{y} \\,|\\, \\boldsymbol{f},\\boldsymbol{t}) \\, \\mathrm{p}(\\boldsymbol{f} \\,|\\, \\boldsymbol{t}) \\, \\mathrm{d}\\boldsymbol{f},$$\n",
    "\n",
    "where \n",
    "\n",
    "\n",
    "### $$\\mathrm{p}(\\boldsymbol{f} \\,|\\, \\boldsymbol{t}) = \\mathcal{N}(\\boldsymbol{f} \\, | \\, \\boldsymbol{0},K)$$\n",
    "\n",
    "\n",
    "is the *prior*, and \n",
    "\n",
    "\n",
    "### $$\\mathrm{p}(\\boldsymbol{y} \\,|\\, \\boldsymbol{f},\\boldsymbol{t}) = \\mathcal{N}(\\boldsymbol{y} \\, | \\, \\boldsymbol{0},\\sigma^2 \\mathbb{I})$$\n",
    "is the *likelihood*."
   ]
  },
  {
   "cell_type": "markdown",
   "metadata": {
    "slideshow": {
     "slide_type": "subslide"
    }
   },
   "source": [
    "## You \"condition\" the hyperparameters on some observed data\n",
    "\n",
    "i.e. evaluate the conditional (or predictive) distribution for a given covariance matrix (i.e. covariance function and hyper-parameters), and training set."
   ]
  },
  {
   "cell_type": "markdown",
   "metadata": {
    "slideshow": {
     "slide_type": "subslide"
    }
   },
   "source": [
    "## *Training* the GP...\n",
    "\n",
    "...means maximising the *likelihood* of the model with respect to the hyperparameters."
   ]
  },
  {
   "cell_type": "markdown",
   "metadata": {
    "slideshow": {
     "slide_type": "subslide"
    }
   },
   "source": [
    "## The kernel trick\n",
    "\n",
    "Consider a linear basis model with arbitrarily many *basis functions*, or *features*, $\\Phi(x)$, and a (Gaussian) prior $\\Sigma_{\\mathrm{p}}$ over the basis function weights. "
   ]
  },
  {
   "cell_type": "markdown",
   "metadata": {
    "slideshow": {
     "slide_type": "subslide"
    }
   },
   "source": [
    "You end up with exactly the same expressions for the predictive distribution and the likelihood so long as:\n",
    "### $$k(\\boldsymbol{x},\\boldsymbol{x'}) = \\Phi(\\boldsymbol{x})^{\\mathrm{T}} \\Sigma_{\\mathrm{p}} \\Phi(\\boldsymbol{x'}),$$\n",
    "\n",
    "\n",
    "or, writing $\\Psi(\\boldsymbol{x}) = \\Sigma_{\\mathrm{p}}^{1/2} \\Phi(\\boldsymbol{x})$,\n",
    "\n",
    "\n",
    "### $$k(\\boldsymbol{x},\\boldsymbol{x'}) = \\Psi(\\boldsymbol{x}) \\cdot \\Psi(\\boldsymbol{x'}),$$"
   ]
  },
  {
   "cell_type": "markdown",
   "metadata": {
    "slideshow": {
     "slide_type": "subslide"
    }
   },
   "source": [
    "Thus the covariance function $k$ enables us to go from a (finite) *input space* to a (potentially infinite) *feature space*. This is known as the *kernel trick* and the covariance function is often referred to as the *kernel*."
   ]
  },
  {
   "cell_type": "markdown",
   "metadata": {
    "slideshow": {
     "slide_type": "slide"
    }
   },
   "source": [
    "# Probabilistic Graphical Model for a GP\n",
    "\n",
    "\n",
    "### Recall:\n",
    "\n",
    "A **probabilistic graphical model** (PGM) is a very useful way of visualizing a generative model.\n",
    "* They sketch out the procedure for how one would generate mock data in practice.\n",
    "* They illustrate the interdependence of model parameters, and the dependence of data on parameters.\n",
    "* _They also (therefore) represent a conditional factorization of the PDF for all the data and model parameters._"
   ]
  },
  {
   "cell_type": "markdown",
   "metadata": {
    "slideshow": {
     "slide_type": "subslide"
    }
   },
   "source": [
    "Ingredients of a PGM:\n",
    "* **Nodes** represent PDFs for parameters\n",
    "* **Edges** represent conditional relationships\n",
    "* **Plates** represent repeated model components whose contents are **conditionally independent**"
   ]
  },
  {
   "cell_type": "markdown",
   "metadata": {
    "slideshow": {
     "slide_type": "subslide"
    }
   },
   "source": [
    "Types of nodes:\n",
    "* **Circles** represent a PDF. This parameter is a *stochastic* function of the parameters feeding into it.\n",
    "* **Points** represent a delta-function PDF. This parameter is a *deterministic* function of the parameters feeding into it.\n",
    "* **Double circles** (or shading) indicate measured data. They are stochastic in the context of generating mock data, but fixed in the context of parameter inference."
   ]
  },
  {
   "cell_type": "markdown",
   "metadata": {
    "slideshow": {
     "slide_type": "slide"
    }
   },
   "source": [
    "## If we were dealing with i.i.d. data\n",
    "\n",
    "### $$ y \\sim f(t) + \\epsilon$$ \n",
    "\n",
    "### with deviations from the truth related to the observational uncertainties\n",
    "\n",
    "### $$ \\epsilon \\sim \\mathcal{N}(0, \\sigma_y^2) $$\n",
    "\n",
    "\n",
    "<img src=\"figures/pgm_conditionally_independent.png\" width=300>"
   ]
  },
  {
   "cell_type": "markdown",
   "metadata": {
    "slideshow": {
     "slide_type": "subslide"
    }
   },
   "source": [
    "## With time-series the data are not conditionally independent\n",
    "\n",
    "i.e. you don't have a nice plate:\n",
    "\n",
    "<img src=\"figures/gp_pgm.png\" width=400>\n",
    "\n",
    "From [Rasmussen & Williams (aka the GP bible)](http://www.gaussianprocess.org/gpml/chapters/RW.pdf)"
   ]
  },
  {
   "cell_type": "markdown",
   "metadata": {
    "slideshow": {
     "slide_type": "slide"
    }
   },
   "source": [
    "# Some astronomical applications"
   ]
  },
  {
   "cell_type": "markdown",
   "metadata": {
    "slideshow": {
     "slide_type": "subslide"
    }
   },
   "source": [
    "#### Spitzer exoplanet transits and eclipses (Evans et al. 2015)\n",
    "\n",
    "<img src=\"figures/Evans_Spitzer.png\" width=\"400\">"
   ]
  },
  {
   "cell_type": "markdown",
   "metadata": {
    "slideshow": {
     "slide_type": "subslide"
    }
   },
   "source": [
    "#### GPs to deal with correlated noise in fitting spectra (Narayan et al., 2019)\n",
    "\n",
    "<img src=\"figures/GP_spectra.jpg\" width=\"400\">"
   ]
  },
  {
   "cell_type": "markdown",
   "metadata": {
    "slideshow": {
     "slide_type": "slide"
    }
   },
   "source": [
    "## Example: Mauna Kea CO$_2$ dataset\n",
    "\n",
    "(From Rasmussen & Williams textbook)\n",
    "\n",
    "<img width=\"400\" src=\"figures/RW_mauna_kea.png\">"
   ]
  },
  {
   "cell_type": "markdown",
   "metadata": {
    "slideshow": {
     "slide_type": "subslide"
    }
   },
   "source": [
    "#### GPz photometric redshifts (Almosallam, Jarvis & Roberts 2016)\n",
    "\n",
    "<img src=\"figures/Almosallam_GPz.png\" width=\"400\">"
   ]
  },
  {
   "cell_type": "markdown",
   "metadata": {
    "slideshow": {
     "slide_type": "slide"
    }
   },
   "source": [
    "# How do I choose the kernel/covariance function for a Gaussian process? \n",
    "\n",
    "Taken from: http://www.cs.toronto.edu/~duvenaud/cookbook/index.html\n",
    "\n",
    "The choice of kernel/covariance function determines almost all the generalization properties of a GP model. You are the expert on your modeling problem - so you're the person best qualified to choose the kernel! If you don't yet know enough about kernels to choose a sensible one, read on.\n",
    "\n",
    "### Radial Basis Function kernel (known also as the Gaussian kernel). It has the form:\n",
    "$k_{SE}(x,x′) = \\sigma^{2} \\exp(−\\frac{(x−x′)^2}{2l})$\n",
    "\n",
    "<img src=\"figures/se_kernel.png\" width=\"200\"> <img src=\"figures/se_kernel_draws_s1.png\" width=\"200\">\n",
    "\n",
    "Also called the \"Exponentiated Quadratic\". The SE kernel has become the de-facto default kernel for GPs and SVMs. This is probably because it has some nice properties. It is universal, and you can integrate it against most functions that you need to. Every function in its prior has infinitely many derivatives. \n",
    "\n",
    "It also has only two parameters: \n",
    "\n",
    "* the lengthscale l determines the length of the 'wiggles' in your function. In general, you won't be able to extrapolate more than l units away from your data.\n",
    "* the output variance $\\sigma^2$ determines the average distance of your function away from its mean. Every kernel has this parameter out in front; it's just a scale factor.\n",
    "\n",
    "###  Rational Quadratic Kernel\n",
    "$k_{RQ}(x,x′) = \\sigma^{2} (1 + \\frac{(x−x′)^2}{2 \\alpha l^2})^{-\\alpha}$\n",
    "\n",
    "<img src=\"figures/rq_kernel.png\" width=\"200\"> <img src=\"figures/rq_kernel_draws.png\" width=\"200\">\n",
    "\n",
    "This kernel is equivalent to adding together many SE kernels with different lengthscales. So, GP priors with this kernel expect to see functions which vary smoothly across many lengthscales. The parameter $\\alpha$ determines the relative weighting of large-scale and small-scale variations. When $\\alpha$ goes to $\\infty$, the RQ is identical to the SE.\n",
    "\n",
    "#### Pitfalls of the SE and RQ kernels\n",
    "Most people who set up a GP regression or classification model end up using the Squared-Exp or Rational Quadratic kernels. They are a quick-and-dirty solution that will probably work pretty well for interpolating smooth functions when N is a multiple of D, and when there are no 'kinks' in your function. If your function happens to have a discontinuity or is discontinuous in its first few derivatives (for example, the abs() function), then either your lengthscale will end up being extremely short, and your posterior mean will become zero almost everywhere, or your posterior mean will have 'ringing' effects. Even if there are no hard discontinuities, the lengthscale will usually end up being determined by the smallest 'wiggle' in your function - so you might end up failing to extrapolate in smooth regions if there is even a small non-smooth region in your data.\n",
    "\n",
    "If your data is more than two-dimensional, it may be hard to detect this problem. One indication is if the lengthscale chosen by maximum marginal likelihood never stops becoming smaller as you add more data. This is a classic sign of model misspecification.\n",
    "\n",
    "### Periodic Kernel\n",
    "$k_Per(x,x′) = \\sigma^{2} \\exp(\\frac{-2 \\sin^2 (\\pi |x−x′| /p)}{l^2})$\n",
    "\n",
    "<img src=\"figures/per_kernel.png\" width=\"200\"> <img src=\"figures/per_kernel_draws_s2.png\" width=\"200\">\n",
    "\n",
    "The periodic kernel (derived by David Mackay) allows one to model functions which repeat themselves exactly. Its parameters are easily interpretable:\n",
    "\n",
    "* The period p simply determines the distnace between repititions of the function.\n",
    "* The lengthscale l determines the lengthscale function in the same way as in the SE kernel.\n",
    "\n",
    "\n",
    "###  Locally Periodic Kernel\n",
    "\n",
    "A SE kernel times a periodic results in functions which are periodic, but which can slowly vary over time.\n",
    "\n",
    "$k_LocalPer(x,x′) = \\sigma^{2} \\exp(\\frac{-2 \\sin^2 (\\pi |x−x′| /p)}{l^2}) \\exp(−\\frac{(x−x′)^2}{2l})$\n",
    "\n",
    "<img src=\"figures/longse_times_per.png\" width=\"200\"> <img src=\"figures/longse_times_per_draws_s1.png\" width=\"200\">\n",
    "\n",
    "Most periodic functions don't repeat themselves exactly. To add some flexibility to our model, we can consider adding or multiplying a local kernel such as the squared-exp with our periodic kernel. This will allow us to model functions that are only locally periodic - the shape of the repeating part of the function can now change over time.\n",
    "\n",
    "### Linear Kernel\n",
    "\n",
    "$kLin(x,x′)= \\sigma_b^2 + \\sigma_v^2(x-c)(x′-c)$\n",
    "\n",
    "<img src=\"figures/lin_kernel.png\" width=\"200\"> <img src=\"figures/lin_kernel_draws_s2.png\" width=\"200\">\n",
    "\n",
    "If you use just a linear kernel in a GP, you're simply doing Bayesian linear regression, and good news! You can do this in time O(N) instead of O(N3), so you should probably go use software specifically designed for that.\n",
    "\n",
    "We include the linear kernel here because further on, we'll show you how to combine it with other kernels in order to get some nice properties.\n",
    "\n",
    "The linear kernel is not like the others in that it's non-stationary. A stationary covariance function is one that only depends on the relative position of its two inputs, and not on their absolute location. That means that the parameters of the linear kernel are about specifying the origin:\n",
    "\n",
    "* The offset c determines the x-coordinate of the point that all the lines in the posterior go though. At this point, the function will have zero variance (unless you add noise)\n",
    "* The constant variance $\\sigma_b^2$ determines how far from 0 the height of the function will be at zero. It's a little confusing, becuase it's not specifying that value directly, but rather putting a prior on it. It's equivalent to adding an uncertain offset to our model. See What about the mean function?\n",
    "\n",
    "### Combining Kernels\n",
    "\n",
    "The kernels above are useful if your data is all the same type, but what if you have more than one type of feature, but you still want to regress on all of them together? The standard way to build a kernel over different datatypes is to multiply kernels together.\n",
    "\n",
    "### Multiplying Kernels\n",
    "Multiplying together kernels is the standard way to combine two kernels, especially if they are defined on different inputs to your function.\n",
    "Roughly speaking, multiplying two kernels can be thought of as an AND operation. That is, if you multiply together two kernels, then the resulting kernel will have high value only if both of the two base kernels have a high value. Here are a few examples, in addition to the squared-exp times periodic above:\n",
    "\n",
    "\n",
    "#### Linear times Periodic\n",
    "A linear kernel times a periodic results in functions which are periodic with increasing amplitude as we move away from the origin.\n",
    "\n",
    "<img width=\"200\" src=\"figures/lin_times_per.png\"> <img width=\"200\" src=\"figures/lin_times_per_draws_s2.png\">\n",
    "\n",
    "#### Linear times Linear\n",
    "A linear kernel times another linear kernel results in functions which are quadratic! This trick can be taken to produce Bayesian polynomial regression of any degree.\n",
    "\n",
    "<img width=\"200\" src=\"figures/lin_times_lin.png\"> <img width=\"200\" src=\"figures/lin_times_lin_draws_s7.png\">\n",
    "\n",
    "### Multidimensional Products\n",
    "Multiplying two kernels which each depend only on a single input dimension results in a prior over functions that vary across both dimesions. That is, the function value f(x,y) is only expected to be similar to some other function value f(x′,y′) if x is close to x′ AND y is close to y′.\n",
    "\n",
    "These kernels have the form: $kproduct(x,y,x′,y′)=kx(x,x′)ky(y,y′)$\n",
    "\n",
    "<img width=\"600\" src=\"figures/Sqaured-exp kernel in 2d.png\">\n",
    "\n",
    "Here we show both a multimensional product kernel, and a draw from the corresponding GP prior:\n",
    "\n",
    "\n",
    "### Adding kernels\n",
    "Roughly speaking, adding two kernels can be thought of as an OR operation. That is, if you add together two kernels, then the resulting kernel will have high value if either of the two base kernels have a high value.\n",
    "\n",
    "#### Linear plus Periodic\n",
    "\n",
    "<img width=\"200\" src=\"figures/lin_plus_per.png\"> <img width=\"200\" src=\"figures/lin_plus_per_draws_s2.png\">\n",
    "\n",
    "A linear kernel plus a periodic results in functions which are periodic with increasing mean as we move away from the origin.\n",
    "\n",
    "### Automatically Choosing a Kernel\n",
    "After reading all this advice, you might decide that you're not sure which kernel is approriate for your problem. In fact, you might decide that choosing the kernel is one of the main difficulties in doing inference - and just as you don't know what the true parameters are, you also don't know what the true kernel is. Probably, you should try out a few different kernels at least, and compare their marginal likelihood on your training data.\n",
    "\n",
    "However, it might be annoying to write down all the different kernels you want to try, especially if there are more than a few variations you're interested in. If want to let the computer run a search over kernels for you, we've made code available to do just that. We wrote about these automatic searches in a paper.\n",
    "\n",
    "### Further Reading\n",
    "There is a massive literature about kernels for Gaussian process and SVMs. Probably the most comprehensive collection of information about covariance functions for Gaussian processes is chapter 4 of the book Gaussian Processes for Machine Learning. Another practical guide with lots of examples (and example code!) is in the documentation for the python GPy library. "
   ]
  },
  {
   "cell_type": "markdown",
   "metadata": {
    "slideshow": {
     "slide_type": "slide"
    }
   },
   "source": [
    "# In-class exercise: Gaussian Process on Cepheids\n",
    "Let's generate a simple Cepheids-like dataset: observations of $y$ with reported uncertainties $\\sigma_y$, at given $x$ values."
   ]
  },
  {
   "cell_type": "code",
   "execution_count": 37,
   "metadata": {
    "slideshow": {
     "slide_type": "subslide"
    }
   },
   "outputs": [],
   "source": [
    "# RUN THIS\n",
    "\n",
    "import numpy as np\n",
    "import pylab as plt\n",
    "\n",
    "xlimits = [0,350]\n",
    "ylimits = [0,250]\n",
    "\n",
    "def generate_data(seed=None):\n",
    "    \"\"\"\n",
    "    Generate a 30-point data set, with x and sigma_y as standard, but with\n",
    "    y values given by\n",
    "\n",
    "    y = a_0 + a_1 * x + a_2 * x**2 + a_3 * x**3 + noise\n",
    "    \"\"\"\n",
    "    Ndata = 30\n",
    "\n",
    "    xbar = 0.5*(xlimits[0] + xlimits[1])\n",
    "    xstd = 0.25*(xlimits[1] - xlimits[0])\n",
    "\n",
    "    if seed is not None:\n",
    "        np.random.seed(seed=seed)\n",
    "\n",
    "    x = xbar + xstd * np.random.randn(Ndata)\n",
    "\n",
    "    meanerr = 0.025*(xlimits[1] - xlimits[0])\n",
    "\n",
    "    sigmay = meanerr + 0.3 * meanerr * np.abs(np.random.randn(Ndata))\n",
    "\n",
    "    a = np.array([37.2,0.93,-0.002,0.0])\n",
    "    y = a[0] + a[1] * x + a[2] * x**2 + a[3] * x**3 + sigmay*np.random.randn(len(x))\n",
    "\n",
    "    return x,y,sigmay\n",
    "\n",
    "def plot_yerr(x, y, sigmay):\n",
    "    \"\"\"\n",
    "    Plot an (x,y,sigma) dataset as a set of points with error bars \n",
    "    \"\"\"\n",
    "    plt.errorbar(x, y, yerr=sigmay, fmt='.', ms=7, lw=1, color='k')\n",
    "    plt.xlabel('$x$', fontsize=16)\n",
    "    plt.ylabel('$y$', fontsize=16)\n",
    "    plt.xlim(*xlimits)\n",
    "    plt.ylim(*ylimits)\n",
    "    return"
   ]
  },
  {
   "cell_type": "code",
   "execution_count": 38,
   "metadata": {
    "slideshow": {
     "slide_type": "subslide"
    }
   },
   "outputs": [
    {
     "data": {
      "image/png": "[encoded data removed]",
      "text/plain": [
       "<Figure size 432x288 with 1 Axes>"
      ]
     },
     "metadata": {
      "needs_background": "light"
     },
     "output_type": "display_data"
    }
   ],
   "source": [
    "(x, y, sigmay) = generate_data(seed=13)\n",
    "\n",
    "plot_yerr(x, y, sigmay)"
   ]
  },
  {
   "cell_type": "markdown",
   "metadata": {
    "slideshow": {
     "slide_type": "slide"
    }
   },
   "source": [
    "# Fitting the Gaussian Process"
   ]
  },
  {
   "cell_type": "code",
   "execution_count": 39,
   "metadata": {
    "slideshow": {
     "slide_type": "subslide"
    }
   },
   "outputs": [],
   "source": [
    "# RUN THIS\n",
    "from sklearn.gaussian_process import GaussianProcessRegressor\n",
    "from sklearn.gaussian_process.kernels import RBF as SquaredExponential"
   ]
  },
  {
   "cell_type": "markdown",
   "metadata": {
    "slideshow": {
     "slide_type": "subslide"
    }
   },
   "source": [
    "### Defining the kernel/covariance Function\n",
    "\n",
    "As you know by now, we need to define a kernel/covariance function, for populating the covariance matrix of our GP. \n",
    "\n",
    "We will use a Gaussian kernel/covariance (also referred to as a \"squared exponential\" or a \"radial basis function\" RBF). The squared exponential kernel has one hyper-parameter, the length scale that is the Gaussian width."
   ]
  },
  {
   "cell_type": "code",
   "execution_count": 40,
   "metadata": {
    "slideshow": {
     "slide_type": "subslide"
    }
   },
   "outputs": [],
   "source": [
    "h = 10.0\n",
    "\n",
    "kernel = SquaredExponential(length_scale=h, length_scale_bounds=(0.01, 1000.0))\n",
    "gp0 = GaussianProcessRegressor(kernel=kernel, n_restarts_optimizer=9)"
   ]
  },
  {
   "cell_type": "markdown",
   "metadata": {
    "slideshow": {
     "slide_type": "subslide"
    }
   },
   "source": [
    "Now, let's draw some samples from the unconstrained process, o equivalently, the prior. Each sample is a function $y(x)$, which we evaluate on a grid. We'll need to assert a value for the kernel hyperparameter $h$, which dictates the correlation length between the datapoints. That will allow us to compute a mean function (which for simplicity we'll set to the mean observed $y$ value), and a covariance matrix that captures the correlations between datapoints."
   ]
  },
  {
   "cell_type": "code",
   "execution_count": null,
   "metadata": {
    "slideshow": {
     "slide_type": "subslide"
    }
   },
   "outputs": [],
   "source": [
    "np.random.seed(1)\n",
    "xgrid = np.atleast_2d(np.linspace(0, 399, 100)).T\n",
    "print(\"y(x) will be predicted on a grid of length\", len(xgrid))\n",
    "\n",
    "# Draw three sample y(x) functions:\n",
    "draws = gp0.sample_y(...\n",
    "\n",
    "print(\"Drew 3 samples, stored in an array with shape \", draws.shape)"
   ]
  },
  {
   "cell_type": "markdown",
   "metadata": {
    "slideshow": {
     "slide_type": "subslide"
    }
   },
   "source": [
    "Let's plot these, to see what our prior looks like.\n"
   ]
  },
  {
   "cell_type": "code",
   "execution_count": 42,
   "metadata": {
    "slideshow": {
     "slide_type": "subslide"
    }
   },
   "outputs": [
    {
     "data": {
      "image/png": "[encoded data removed]",
      "text/plain": [
       "<Figure size 720x720 with 1 Axes>"
      ]
     },
     "metadata": {
      "needs_background": "light"
     },
     "output_type": "display_data"
    }
   ],
   "source": [
    "# Start a 4-panel figure:\n",
    "fig = plt.figure(figsize=(10,10))\n",
    "\n",
    "# Plot our three prior draws:\n",
    "ax = fig.add_subplot(221)\n",
    "ax.plot(xgrid, draws[:,0], '-r')\n",
    "ax.plot(xgrid, draws[:,1], '-g')\n",
    "ax.plot(xgrid, draws[:,2], '-b', label='Rescaled prior sample $y(x)$')\n",
    "ax.set_xlim(0, 399)\n",
    "ax.set_ylim(-5, 5)\n",
    "ax.set_xlabel('$x$')\n",
    "ax.set_ylabel('$y(x)$')\n",
    "ax.legend(fontsize=8);"
   ]
  },
  {
   "cell_type": "markdown",
   "metadata": {
    "slideshow": {
     "slide_type": "subslide"
    }
   },
   "source": [
    "Each predicted $y(x)$ is drawn from a Gaussian of unit variance, and with off-diagonal elements determined by the covariance function. \n",
    "\n",
    "Try changing `h` to see what happens to the smoothness of the predictions. \n",
    "\n",
    "> Go back up to the cell where `h` is assigned, and re-run that cell and the subsequent ones."
   ]
  },
  {
   "cell_type": "markdown",
   "metadata": {
    "slideshow": {
     "slide_type": "subslide"
    }
   },
   "source": [
    "For our data to be well interpolated by this Gaussian Process, it will need to be rescaled such that it has zero mean and unit variance. There are [standard methods for doing this](http://scikit-learn.org/stable/modules/preprocessing.html), but we'll do this rescaling here for transparency - and so we know what to add back in later!"
   ]
  },
  {
   "cell_type": "code",
   "execution_count": 43,
   "metadata": {
    "slideshow": {
     "slide_type": "subslide"
    }
   },
   "outputs": [],
   "source": [
    "class Rescale():\n",
    "    def __init__(self, y, err):\n",
    "        self.original_data = y\n",
    "        self.original_err = err\n",
    "        self.mean = np.mean(y)\n",
    "        self.std = np.std(y)\n",
    "        self.transform()\n",
    "        return\n",
    "    def transform(self):\n",
    "        self.y = (self.original_data - self.mean) / self.std\n",
    "        self.err = self.original_err / self.std\n",
    "        return()\n",
    "    def invert(self, scaled_y, scaled_err):\n",
    "        return (scaled_y * self.std + self.mean, scaled_err * self.std)     "
   ]
  },
  {
   "cell_type": "code",
   "execution_count": null,
   "metadata": {
    "slideshow": {
     "slide_type": "subslide"
    }
   },
   "outputs": [],
   "source": [
    "rescaled = Rescale(y, sigmay)\n",
    "print('Mean, variance of original data: ',np.round(np.mean(y)), np.round(np.var(y)))\n",
    "print('Mean, variance of rescaled data: ',np.round(np.mean(rescaled.y)), np.round(np.var(rescaled.y)))"
   ]
  },
  {
   "cell_type": "code",
   "execution_count": null,
   "metadata": {
    "slideshow": {
     "slide_type": "subslide"
    }
   },
   "outputs": [],
   "source": [
    "y2, sigmay2 = rescaled.invert(rescaled.y, rescaled.err)\n",
    "print('Mean, variance of inverted, rescaled data: ',np.round(np.mean(y2)), np.round(np.var(y2)))\n",
    "print('Maximum differences in y, sigmay, after round trip: ',np.max(np.abs(y2 - y)), np.max(np.abs(sigmay2 - sigmay)))"
   ]
  },
  {
   "cell_type": "markdown",
   "metadata": {
    "slideshow": {
     "slide_type": "subslide"
    }
   },
   "source": [
    "### Constraining the GP\n",
    "\n",
    "Now, using the same covariance function, lets \"fit\" the GP by constraining each draw from the GP to go through our data points, and _optimizing_ the length scale hyperparameter `h`. \n",
    "\n",
    "Let's first look at how this would work for two data points with no uncertainty. "
   ]
  },
  {
   "cell_type": "code",
   "execution_count": null,
   "metadata": {
    "slideshow": {
     "slide_type": "subslide"
    }
   },
   "outputs": [],
   "source": [
    "# Choose two of our (rescaled) datapoints:\n",
    "x1 = np.array([x[10], x[12]])\n",
    "rescaled_y1 = np.array([rescaled.y[10], rescaled.y[12]])\n",
    "rescaled_sigmay1 = np.array([rescaled.err[10], rescaled.err[12]])\n",
    "\n",
    "# Instantiate a GP model, with initial length_scale h=10:\n",
    "kernel = SquaredExponential(...\n",
    "gp1 = GaussianProcessRegressor(...\n",
    "\n",
    "# Fit it to our two noiseless datapoints:\n",
    "gp1.fit(...\n",
    "\n",
    "# We have fit for the length scale parameter: print the result here:\n",
    "params = gp1.kernel_.get_params()\n",
    "print('Best-fit kernel length scale =', params['length_scale'],'cf. input',10.0)\n",
    "\n",
    "# Now predict y(x) everywhere on our xgrid: \n",
    "rescaled_ygrid1, rescaled_ygrid1_err = gp1.predict(...\n",
    "\n",
    "# And undo scaling, of both y(x) on our grid, and our two constraining data points:\n",
    "ygrid1, ygrid1_err = rescaled.invert(...\n",
    "y1, sigmay1 = rescaled.invert(..."
   ]
  },
  {
   "cell_type": "code",
   "execution_count": null,
   "metadata": {
    "slideshow": {
     "slide_type": "subslide"
    }
   },
   "outputs": [],
   "source": [
    "ax = fig.add_subplot(222)\n",
    "ax.plot(xgrid, ygrid1, '-', color='gray', label='Posterior mean $y(x)$')\n",
    "ax.fill(np.concatenate([xgrid, xgrid[::-1]]),\n",
    "        np.concatenate([(ygrid1 - ygrid1_err), (ygrid1 + ygrid1_err)[::-1]]),\n",
    "        alpha=0.3, fc='gray', ec='None', label='68% confidence interval')\n",
    "ax.plot(x1, y1, '.k', ms=6, label='Noiseless constraints')\n",
    "ax.set_xlim(0, 399)\n",
    "ax.set_ylim(0, 399)\n",
    "ax.set_xlabel('$x$')\n",
    "fig"
   ]
  },
  {
   "cell_type": "markdown",
   "metadata": {
    "slideshow": {
     "slide_type": "subslide"
    }
   },
   "source": [
    "In the absence of information, the GP tends to produce $y(x)$ that fluctuate around the prior mean function, which we chose to be a constant. Let's draw some samples from the posterior PDF, and overlay them."
   ]
  },
  {
   "cell_type": "code",
   "execution_count": null,
   "metadata": {
    "slideshow": {
     "slide_type": "subslide"
    }
   },
   "outputs": [],
   "source": [
    "draws = gp1.sample_y(xgrid, n_samples=3)\n",
    "for k in range(3):\n",
    "    draws[:,k], dummy = rescaled.invert(draws[:,k], np.zeros(len(xgrid)))\n",
    "\n",
    "ax.plot(xgrid, draws[:,0], '-r')\n",
    "ax.plot(xgrid, draws[:,1], '-g')\n",
    "ax.plot(xgrid, draws[:,2], '-b', label='Posterior sample $y(x)$')\n",
    "ax.legend(fontsize=8)\n",
    "fig"
   ]
  },
  {
   "cell_type": "markdown",
   "metadata": {
    "slideshow": {
     "slide_type": "subslide"
    }
   },
   "source": [
    "See how the posterior sample $y(x)$ functions all pass through the constrained points."
   ]
  },
  {
   "cell_type": "code",
   "execution_count": null,
   "metadata": {
    "slideshow": {
     "slide_type": "subslide"
    }
   },
   "outputs": [],
   "source": [
    "# Choose two of our datapoints:\n",
    "x2 = np.array([x[10], x[12]])\n",
    "rescaled_y2 = np.array([rescaled.y[10], rescaled.y[12]])\n",
    "rescaled_sigmay2 = np.array([rescaled.err[10], rescaled.err[12]])\n",
    "\n",
    "# Instantiate a GP model, including observational errors:\n",
    "kernel = SquaredExponential(...\n",
    "gp2 = GaussianProcessRegressor(...\n",
    "\n",
    "# Fit it to our two noisy datapoints:\n",
    "gp2.fit(...\n",
    "\n",
    "# We have fit for the length scale parameter: print the result here:\n",
    "params = gp2.kernel_.get_params()\n",
    "print('Best-fit kernel length scale =', params['length_scale'],'cf. input',10.0)\n",
    "\n",
    "# Now predict y(x) everywhere on our xgrid: \n",
    "rescaled_ygrid2, rescaled_ygrid2_err = gp2.predict(...\n",
    "\n",
    "# And undo scaling:\n",
    "ygrid2, ygrid2_err = rescaled.invert(...\n",
    "y2, sigmay2 = rescaled.invert(...\n",
    "\n",
    "# Draw three posterior sample y(x):\n",
    "draws = gp2.sample_y(xgrid, n_samples=3)\n",
    "for k in range(3):\n",
    "    draws[:,k], dummy = rescaled.invert(draws[:,k], np.zeros(len(xgrid)))"
   ]
  },
  {
   "cell_type": "code",
   "execution_count": null,
   "metadata": {
    "slideshow": {
     "slide_type": "subslide"
    }
   },
   "outputs": [],
   "source": [
    "ax = fig.add_subplot(223)\n",
    "\n",
    "def gp_plot(ax, xx, yy, ee, datax, datay, datae, samples, legend=True):\n",
    "    ax.cla()\n",
    "    ax.plot(xx, yy, '-', color='gray', label='Posterior mean $y(x)$')\n",
    "    ax.fill(np.concatenate([xx, xx[::-1]]),\n",
    "            np.concatenate([(yy - ee), (yy + ee)[::-1]]),\n",
    "            alpha=0.3, fc='gray', ec='None', label='68% confidence interval')\n",
    "    ax.errorbar(datax, datay, datae, fmt='.k', ms=6, label='Noisy constraints')\n",
    "    ax.set_xlim(0, 399)\n",
    "    ax.set_ylim(0, 399)\n",
    "    ax.set_xlabel('$x$')\n",
    "    ax.set_ylabel('$y(x)$')\n",
    "    ax.plot(xgrid, samples[:,0], '-r')\n",
    "    ax.plot(xgrid, samples[:,1], '-g')\n",
    "    ax.plot(xgrid, samples[:,2], '-b', label='Posterior sample $y(x)$')\n",
    "    if legend: ax.legend(fontsize=8)\n",
    "    return\n",
    "\n",
    "gp_plot(ax, xgrid, ygrid2, ygrid2_err, x2, y2, sigmay2, draws, legend=True)\n",
    "fig"
   ]
  },
  {
   "cell_type": "markdown",
   "metadata": {
    "slideshow": {
     "slide_type": "subslide"
    }
   },
   "source": [
    "Now, the posterior sample $y(x)$ functions pass through the constraints _within the errors_."
   ]
  },
  {
   "cell_type": "markdown",
   "metadata": {
    "slideshow": {
     "slide_type": "subslide"
    }
   },
   "source": [
    "### Using all the Data\n",
    "\n",
    "Now let's extend the above example to use all of our datapoints. This additional information should pull the predictions further away from the initial mean function. We'll also compute the marginal log likelihood of the best fit hyperparameter, in case we want to compare this choice of kernel with another one (in the exercises, for example)."
   ]
  },
  {
   "cell_type": "code",
   "execution_count": null,
   "metadata": {
    "slideshow": {
     "slide_type": "subslide"
    }
   },
   "outputs": [],
   "source": [
    "# Use all of our datapoints:\n",
    "x3 = x\n",
    "rescaled_y3 = rescaled.y\n",
    "rescaled_sigmay3 = rescaled.err\n",
    "\n",
    "# Instantiate a GP model, including observational errors:\n",
    "kernel = SquaredExponential(...\n",
    "# Could comment this out, and then import and use an \n",
    "# alternative kernel here. \n",
    "\n",
    "gp3 = GaussianProcessRegressor(...\n",
    "\n",
    "# Fit it to our noisy datapoints:\n",
    "gp3.fit(...\n",
    "\n",
    "# Now predict y(x) everywhere on our xgrid: \n",
    "rescaled_ygrid3, rescaled_ygrid3_err = gp3.predict(...\n",
    "\n",
    "# And undo scaling:\n",
    "ygrid3, ygrid3_err = rescaled.invert(...\n",
    "y3, sigmay3 = rescaled.invert(...\n",
    "\n",
    "# We have fitted the length scale parameter - print the result here:\n",
    "params = gp3.kernel_.get_params()\n",
    "print('Kernel: {}'.format(gp3.kernel_))\n",
    "print('Best-fit kernel length scale =', params['length_scale'],'cf. input',10.0)\n",
    "print('Marginal log-Likelihood: {:.3f}'.format(gp3.log_marginal_likelihood(gp3.kernel_.theta)))\n",
    "\n",
    "# Draw three posterior sample y(x):\n",
    "draws = gp3.sample_y(xgrid, n_samples=3)\n",
    "for k in range(3): \n",
    "    draws[:,k], dummy = rescaled.invert(draws[:,k], np.zeros(len(xgrid)))"
   ]
  },
  {
   "cell_type": "code",
   "execution_count": null,
   "metadata": {
    "slideshow": {
     "slide_type": "subslide"
    }
   },
   "outputs": [],
   "source": [
    "ax = fig.add_subplot(224)\n",
    "\n",
    "gp_plot(ax, xgrid, ygrid3, ygrid3_err, x3, y3, sigmay3, draws, legend=True)\n",
    "fig"
   ]
  },
  {
   "cell_type": "markdown",
   "metadata": {
    "slideshow": {
     "slide_type": "subslide"
    }
   },
   "source": [
    "We now see the Gaussian Process model providing a smooth interpolation between the points. The posterior samples show fluctuations, but all are plausible under our assumptions."
   ]
  }
 ],
 "metadata": {
  "anaconda-cloud": {},
  "celltoolbar": "Slideshow",
  "kernelspec": {
   "display_name": "Python 3 (ipykernel)",
   "language": "python",
   "name": "python3"
  },
  "language_info": {
   "codemirror_mode": {
    "name": "ipython",
    "version": 3
   },
   "file_extension": ".py",
   "mimetype": "text/x-python",
   "name": "python",
   "nbconvert_exporter": "python",
   "pygments_lexer": "ipython3",
   "version": "3.9.18"
  },
  "livereveal": {
   "scroll": true,
   "start_slideshow_at": "selected"
  }
 },
 "nbformat": 4,
 "nbformat_minor": 1
}
